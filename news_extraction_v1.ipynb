{
 "cells": [
  {
   "cell_type": "code",
   "execution_count": null,
   "id": "3b6d12b4",
   "metadata": {},
   "outputs": [],
   "source": [
    "# pip install newsdataapi\n",
    "from newsdataapi import NewsDataApiClient"
   ]
  },
  {
   "cell_type": "code",
   "execution_count": null,
   "id": "b48111f8",
   "metadata": {},
   "outputs": [],
   "source": [
    "class NewsApi:\n",
    "    def __init__(self):\n",
    "        self.api = NewsDataApiClient(apikey=\"pub_4584b806d335cee6da69ee66462df41c4844\")\n",
    "        \n",
    "    def getNewsByKeyword(self, keyword, startDate = None, endDate = None, pages = 1):\n",
    "        result = []\n",
    "        for page in range(pages):\n",
    "#             if startDate and endDate:\n",
    "#                 response = self.api.archive_api(country = \"us\", language = \"en\", q = keyword, page = page, from_date=\"startDate\", to_date=\"endDate\")\n",
    "#                 print(response)\n",
    "#             else:\n",
    "            response = self.api.news_api(country = \"us\", language = \"en\", q = keyword, page = page)\n",
    "            for item in response[\"results\"]:\n",
    "                if item[\"content\"]:\n",
    "                    result.append(item[\"content\"])\n",
    "        return result\n",
    "    \n",
    "    def getLatestByKeywordInTitle(self, keyword, pages = 1):\n",
    "        result = []\n",
    "        for page in range(pages):\n",
    "            response = self.api.news_api(country = \"us\", language = \"en\", qInTitle = keyword, page = page)\n",
    "            for item in response[\"results\"]:\n",
    "                if item[\"content\"]:\n",
    "                    result.append(item[\"content\"])\n",
    "        return result"
   ]
  }
 ],
 "metadata": {
  "kernelspec": {
   "display_name": "Python 3",
   "language": "python",
   "name": "python3"
  },
  "language_info": {
   "codemirror_mode": {
    "name": "ipython",
    "version": 3
   },
   "file_extension": ".py",
   "mimetype": "text/x-python",
   "name": "python",
   "nbconvert_exporter": "python",
   "pygments_lexer": "ipython3",
   "version": "3.8.8"
  }
 },
 "nbformat": 4,
 "nbformat_minor": 5
}
